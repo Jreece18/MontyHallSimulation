{
 "cells": [
  {
   "cell_type": "markdown",
   "metadata": {},
   "source": [
    "# Monty Hall Problem Simulation\n",
    "\n",
    "The Monty Hall Problem is a probability puzzle based on the gameshow Let's Make A Deal.\n",
    "\n",
    "1. There are three doors, 1 with a car (the prize), 2 with goats (the consolation).\n",
    "2. You are told to pick a door.\n",
    "3. Monty, the host, reveals a goat behind one of the other doors. Leaving only your door and one other left.\n",
    "4. He offers you the chance to stick or twist, either keeping your original door, or swapping to the other that has not yet been revealed.\n",
    "5. You win the prize behind the door you have selected.\n",
    "6. What do you do? Stick or switch?\n",
    "\n",
    "It's a problem loaded with both emotional and mathematical obstacles, often leading the player to make the wrong decision, whether they use logical reasoning or go with their gut instinct. The correct decision would be to switch to the other door that has yet to be revealed. While this is not particularly intuitive, the decision is not 50/50. \n",
    "\n",
    "The host has to reveal a door containing a goat, otherwise the game is ruined. You correctly pick the car only 1/3 of the time, therefore 2/3s of the time, Monty reveals, by omission, the door belonging to the car. If you choose to switch to the unrevealed door, you will win 2/3s of the time. This does not work for more modern gameshows such as Deal Or No Deal, as the improved probability is based on the information gain explained above. If the host did not know where the car was, or he could open the door belonging to the car, the odds would not be improved."
   ]
  },
  {
   "cell_type": "code",
   "execution_count": 1,
   "metadata": {},
   "outputs": [],
   "source": [
    "import random\n",
    "import matplotlib.pyplot as plt\n",
    "import seaborn as sns\n",
    "import pandas as pd"
   ]
  },
  {
   "cell_type": "markdown",
   "metadata": {},
   "source": [
    "## Always take the switch"
   ]
  },
  {
   "cell_type": "markdown",
   "metadata": {},
   "source": [
    "### Expectation:\n",
    "\n",
    "The host has to reveal a goat. They cannot show you the 'car' door as the game would be over. In every situation in which you have not picked the door with a car behind it, the host must pick the door with the goat. As 2/3s of the time, you'll pick a door with one of the goats, the host reveals to you whihc door the car is behind. Therefore, if you always take the switch, you will be right 2/3s of the time and only wrong the 1/3 of the times you correctly pick the car. "
   ]
  },
  {
   "cell_type": "markdown",
   "metadata": {},
   "source": [
    "### Situation 2/3s of the time:\n",
    "\n",
    "1. You pick a goat.\n",
    "2. One of the other doors has the car, the other has another goat.\n",
    "3. The host cannot pick the car, as the gameshow will be over.\n",
    "4. Therefore, 2/3s of the time, the car is revealed to you as the door the host did not pick."
   ]
  },
  {
   "cell_type": "markdown",
   "metadata": {},
   "source": [
    "### Simulation:"
   ]
  },
  {
   "cell_type": "code",
   "execution_count": 2,
   "metadata": {},
   "outputs": [],
   "source": [
    "result = []\n",
    "for i in range(0,10000):\n",
    "    # 1/3 chance of winning the car\n",
    "    prizes = ['Goat', 'Goat', 'Car']\n",
    "    # Randomly selected door\n",
    "    your_choice = random.choice(prizes)\n",
    "    prizes.remove(your_choice)\n",
    "    # Host can only reveal the goat, not the car\n",
    "    host_choice = random.choice(prizes)\n",
    "    if host_choice == 'Car':\n",
    "        host_choice = 'Goat'\n",
    "    prizes.remove(host_choice)\n",
    "    \n",
    "    #print('Host reveals {} behind one of the prize doors. He gives you the option to switch to the unopened door, or keep your original choice. Do you want to switch?'.format(host_choice))\n",
    "    switch = prizes[0]\n",
    "    \n",
    "    # you switch\n",
    "    your_choice = switch\n",
    "    result.append(your_choice)"
   ]
  },
  {
   "cell_type": "code",
   "execution_count": 3,
   "metadata": {},
   "outputs": [
    {
     "data": {
      "text/plain": [
       "(6680, 3320)"
      ]
     },
     "execution_count": 3,
     "metadata": {},
     "output_type": "execute_result"
    }
   ],
   "source": [
    "cars_switch = result.count('Car')\n",
    "goats_switch = result.count('Goat')\n",
    "cars_switch, goats_switch"
   ]
  },
  {
   "cell_type": "markdown",
   "metadata": {},
   "source": [
    "### Always keep your original choice"
   ]
  },
  {
   "cell_type": "markdown",
   "metadata": {},
   "source": [
    "### Expectation:\n",
    "\n",
    "You have a 1/3 chance of correctly picking the car. We would expect you to win a car 1/3 of the time."
   ]
  },
  {
   "cell_type": "markdown",
   "metadata": {},
   "source": [
    "### Simulation"
   ]
  },
  {
   "cell_type": "code",
   "execution_count": 4,
   "metadata": {},
   "outputs": [],
   "source": [
    "result = []\n",
    "for i in range(0,10000):\n",
    "    # 1/3 chance of winning the car\n",
    "    prizes = ['Goat', 'Goat', 'Car']\n",
    "    # Randomly selected door\n",
    "    your_choice = random.choice(prizes)\n",
    "    prizes.remove(your_choice)\n",
    "    # Host can only reveal the goat, not the car\n",
    "    host_choice = random.choice(prizes)\n",
    "    if host_choice == 'Car':\n",
    "        host_choice = 'Goat'\n",
    "    prizes.remove(host_choice)\n",
    "    \n",
    "    #print('Host reveals {} behind one of the prize doors. He gives you the option to switch to the unopened door, or keep your original choice. Do you want to switch?'.format(host_choice))\n",
    "    switch = prizes[0]\n",
    "    \n",
    "    # you switch\n",
    "    your_choice = your_choice\n",
    "    result.append(your_choice)"
   ]
  },
  {
   "cell_type": "code",
   "execution_count": 5,
   "metadata": {},
   "outputs": [
    {
     "data": {
      "text/plain": [
       "(3358, 6642)"
      ]
     },
     "execution_count": 5,
     "metadata": {},
     "output_type": "execute_result"
    }
   ],
   "source": [
    "cars_keep = result.count('Car')\n",
    "goats_keep = result.count('Goat')\n",
    "cars_keep, goats_keep"
   ]
  },
  {
   "cell_type": "markdown",
   "metadata": {},
   "source": [
    "## Random, arbitrary choice"
   ]
  },
  {
   "cell_type": "markdown",
   "metadata": {},
   "source": [
    "Arbitrarily choosing to switch should give you a chance of winning the car directly between 1/3 and 2/3, which means you would win the car 1/2 (3/6, simplified) of the time."
   ]
  },
  {
   "cell_type": "markdown",
   "metadata": {},
   "source": [
    "### Simulation:"
   ]
  },
  {
   "cell_type": "code",
   "execution_count": 6,
   "metadata": {},
   "outputs": [],
   "source": [
    "result = []\n",
    "for i in range(0,10000):\n",
    "    # 1/3 chance of winning the car\n",
    "    prizes = ['Goat', 'Goat', 'Car']\n",
    "    # Randomly selected door\n",
    "    your_choice = random.choice(prizes)\n",
    "    prizes.remove(your_choice)\n",
    "    # Host can only reveal the goat, not the car\n",
    "    host_choice = random.choice(prizes)\n",
    "    if host_choice == 'Car':\n",
    "        host_choice = 'Goat'\n",
    "    prizes.remove(host_choice)\n",
    "    \n",
    "    #print('Host reveals {} behind one of the prize doors. He gives you the option to switch to the unopened door, or keep your original choice. Do you want to switch?'.format(host_choice))\n",
    "    switch = prizes[0]\n",
    "    \n",
    "    # you switch\n",
    "    choices = [your_choice, switch]\n",
    "    your_choice = random.choice(choices)\n",
    "    result.append(your_choice)"
   ]
  },
  {
   "cell_type": "code",
   "execution_count": 7,
   "metadata": {},
   "outputs": [
    {
     "data": {
      "text/plain": [
       "(5020, 4980)"
      ]
     },
     "execution_count": 7,
     "metadata": {},
     "output_type": "execute_result"
    }
   ],
   "source": [
    "cars_rand = result.count('Car')\n",
    "goats_rand = result.count('Goat')\n",
    "\n",
    "cars_rand, goats_rand"
   ]
  },
  {
   "cell_type": "markdown",
   "metadata": {},
   "source": [
    "## Visualised"
   ]
  },
  {
   "cell_type": "code",
   "execution_count": 8,
   "metadata": {},
   "outputs": [
    {
     "data": {
      "text/html": [
       "<div>\n",
       "<style scoped>\n",
       "    .dataframe tbody tr th:only-of-type {\n",
       "        vertical-align: middle;\n",
       "    }\n",
       "\n",
       "    .dataframe tbody tr th {\n",
       "        vertical-align: top;\n",
       "    }\n",
       "\n",
       "    .dataframe thead th {\n",
       "        text-align: right;\n",
       "    }\n",
       "</style>\n",
       "<table border=\"1\" class=\"dataframe\">\n",
       "  <thead>\n",
       "    <tr style=\"text-align: right;\">\n",
       "      <th></th>\n",
       "      <th>Choice</th>\n",
       "      <th>Goats</th>\n",
       "      <th>Cars</th>\n",
       "    </tr>\n",
       "  </thead>\n",
       "  <tbody>\n",
       "    <tr>\n",
       "      <th>0</th>\n",
       "      <td>Switch</td>\n",
       "      <td>3320</td>\n",
       "      <td>6680</td>\n",
       "    </tr>\n",
       "    <tr>\n",
       "      <th>1</th>\n",
       "      <td>Keep</td>\n",
       "      <td>6642</td>\n",
       "      <td>3358</td>\n",
       "    </tr>\n",
       "    <tr>\n",
       "      <th>2</th>\n",
       "      <td>Random</td>\n",
       "      <td>4980</td>\n",
       "      <td>5020</td>\n",
       "    </tr>\n",
       "  </tbody>\n",
       "</table>\n",
       "</div>"
      ],
      "text/plain": [
       "   Choice  Goats  Cars\n",
       "0  Switch   3320  6680\n",
       "1    Keep   6642  3358\n",
       "2  Random   4980  5020"
      ]
     },
     "execution_count": 8,
     "metadata": {},
     "output_type": "execute_result"
    }
   ],
   "source": [
    "goats = [goats_switch, goats_keep, goats_rand]\n",
    "cars = [cars_switch, cars_keep, cars_rand]\n",
    "choice = ['Switch', 'Keep', 'Random']\n",
    "\n",
    "df = pd.DataFrame(data=zip(choice, goats, cars), columns=['Choice', 'Goats', 'Cars'])\n",
    "df.head()"
   ]
  },
  {
   "cell_type": "code",
   "execution_count": 9,
   "metadata": {},
   "outputs": [
    {
     "data": {
      "image/png": "[encoded data removed]",
      "text/plain": [
       "<Figure size 432x288 with 1 Axes>"
      ]
     },
     "metadata": {
      "needs_background": "light"
     },
     "output_type": "display_data"
    }
   ],
   "source": [
    "sns.barplot(x='Choice', y='Cars', data=df, palette='colorblind')\n",
    "plt.title('Number of Cars Won Over 10,000 Simulations With Different Actions', pad=20);\n",
    "plt.ylim(0, 10000);"
   ]
  },
  {
   "cell_type": "markdown",
   "metadata": {},
   "source": [
    "Most people's instinct is to keep their original choice, from a combination of thinking the probabilities are equally distributed across all three doors and a preference for their chosen door (through loss or 'switch' aversion). While this incorrect decision can be the cause of cognitive biases, it is also susceptible to incorrect reasoning through a misunderstanding of the probability distribution (Tabau, Aguilar-Lleyda, and Johnson, 2015).\n",
    "\n",
    "\n",
    "As can be seen in the above graph, even arbitrarily choosing whether you keep or switch provides a better outcome to just keeping your original door. Regardless of this, many people will still choose to keep their door even if they are told they have better odds if they switch. This can be explained by psychology, with research suggesting that the pain of losing a possession is twice as powerful as the pleasure of acquiring it (Tversky and Kahneman, 2000). Whether the correct decision is known or not, there remains a temptaton to base decisions off emotions. \n",
    "\n",
    "Simulating each decision 10,000 times may prove to be more persuading than simply explaining the probability, as most people tend to be more susceptible to practical experience over theory. "
   ]
  },
  {
   "cell_type": "markdown",
   "metadata": {},
   "source": [
    "## References"
   ]
  },
  {
   "cell_type": "markdown",
   "metadata": {},
   "source": [
    "Tabau, E., Aguilar-Lleyda, D., Johnson, E. D. (2015). Reasoning and choice in the Monty Hall Dilemma (MHD): implications for improving Bayesian reasoning. Front Psychol 6:353. doi: 10.3389/fpsyg.2015.00353"
   ]
  },
  {
   "cell_type": "markdown",
   "metadata": {},
   "source": [
    "Tversky, A., & Kahneman, D. (2000). Loss Aversion in Riskless Choice: A Reference-Dependent Model. In D. Kahneman & A. Tversky (Eds.), Choices, Values, and Frames (pp. 143-158). Cambridge: Cambridge University Press. doi:10.1017/CBO9780511803475.008"
   ]
  }
 ],
 "metadata": {
  "kernelspec": {
   "display_name": "Python 3",
   "language": "python",
   "name": "python3"
  },
  "language_info": {
   "codemirror_mode": {
    "name": "ipython",
    "version": 3
   },
   "file_extension": ".py",
   "mimetype": "text/x-python",
   "name": "python",
   "nbconvert_exporter": "python",
   "pygments_lexer": "ipython3",
   "version": "3.7.1"
  }
 },
 "nbformat": 4,
 "nbformat_minor": 4
}
